{
 "cells": [
  {
   "cell_type": "code",
   "execution_count": null,
   "id": "35c03157",
   "metadata": {},
   "outputs": [],
   "source": [
    "import numpy as np\n",
    "\n",
    "# Define the paths to your input and output files\n",
    "input_path = \"/Users/mac/Documents/output/input_output/input.txt\"\n",
    "output_path = \"/Users/mac/Documents/output/input_output/output.txt\"\n",
    "\n",
    "# Import dataset, skipping the first row in input file (assuming it's a header)\n",
    "X = np.loadtxt(input_path, skiprows=1)\n",
    "\n",
    "# Load output data, skipping non-numeric rows if necessary\n",
    "# Let's assume 'output.txt' contains a header as well, skip the first row\n",
    "# and specify to ignore non-convertible values\n",
    "y = np.loadtxt(output_path, skiprows=1, dtype=float, comments=None)\n",
    "\n",
    "# Check the shape of X (assuming X is your input data)\n",
    "print(\"Shape of X:\", X.shape)\n",
    "print(\"Shape of y:\", y.shape)"
   ]
  },
  {
   "cell_type": "code",
   "execution_count": 4,
   "id": "dcaecf5b",
   "metadata": {},
   "outputs": [],
   "source": [
    "from sklearn.model_selection import train_test_split\n",
    "\n",
    "X_train, X_test, y_train, y_test = train_test_split(X, y, test_size=0.3, random_state=123)"
   ]
  },
  {
   "cell_type": "code",
   "execution_count": 5,
   "id": "6004682a",
   "metadata": {},
   "outputs": [
    {
     "name": "stdout",
     "output_type": "stream",
     "text": [
      "Training Accuracy: 0.875\n",
      "Testing Accuracy: 0.8658767440229965\n"
     ]
    }
   ],
   "source": [
    "import xgboost as xgb\n",
    "from sklearn.metrics import accuracy_score\n",
    "\n",
    "#Model Development\n",
    "xg_reg = xgb.XGBClassifier(objective ='reg:logistic', colsample_bytree = 0.3, learning_rate = 0.1,\n",
    "                max_depth = 5, alpha = 10, n_estimators = 200)\n",
    "\n",
    "\n",
    "#Model Training\n",
    "xg_reg.fit(X_train,y_train)\n",
    "\n",
    "\n",
    "# predict the results\n",
    "y_predtrain = xg_reg.predict(X_train)\n",
    "y_predtest = xg_reg.predict(X_test)\n",
    "\n",
    "# view accuracy\n",
    "print(\"Training Accuracy:\",accuracy_score(y_train, y_predtrain))\n",
    "print(\"Testing Accuracy:\",accuracy_score(y_test, y_predtest))\n"
   ]
  },
  {
   "cell_type": "code",
   "execution_count": null,
   "id": "497950fc",
   "metadata": {},
   "outputs": [],
   "source": []
  }
 ],
 "metadata": {
  "kernelspec": {
   "display_name": "Python 3 (ipykernel)",
   "language": "python",
   "name": "python3"
  },
  "language_info": {
   "codemirror_mode": {
    "name": "ipython",
    "version": 3
   },
   "file_extension": ".py",
   "mimetype": "text/x-python",
   "name": "python",
   "nbconvert_exporter": "python",
   "pygments_lexer": "ipython3",
   "version": "3.11.5"
  }
 },
 "nbformat": 4,
 "nbformat_minor": 5
}
