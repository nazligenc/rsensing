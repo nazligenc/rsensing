{
 "cells": [
  {
   "cell_type": "code",
   "execution_count": 1,
   "id": "7872736d",
   "metadata": {},
   "outputs": [
    {
     "name": "stdout",
     "output_type": "stream",
     "text": [
      "Training Accuracy: 0.7637019230769231\n",
      "Testing Accuracy: 0.7609198625815046\n"
     ]
    }
   ],
   "source": [
    "from sklearn import svm\n",
    "from sklearn.metrics import accuracy_score\n",
    "from sklearn.model_selection import train_test_split\n",
    "import numpy as np\n",
    "\n",
    "# Define input and output paths\n",
    "input_path = \"/Users/mac/Documents/output/input_output/input.txt\"\n",
    "output_path = \"/Users/mac/Documents/output/input_output/output.txt\"\n",
    "\n",
    "# Import dataset, skipping the first row in input file (assuming it's a header)\n",
    "X = np.loadtxt(input_path, skiprows=1)\n",
    "\n",
    "# Load output data, skipping non-numeric rows if necessary\n",
    "# Let's assume 'output.txt' contains a header as well, skip the first row\n",
    "# and specify to ignore non-convertible values\n",
    "y = np.loadtxt(output_path, skiprows=1, dtype=float, comments=None)\n",
    "\n",
    "# Split the dataset into training and testing sets\n",
    "X_train, X_test, y_train, y_test = train_test_split(X, y, test_size=0.3, random_state=123)\n",
    "\n",
    "# Initialize SVM classifier\n",
    "svm_clf = svm.SVC()\n",
    "\n",
    "# Train the SVM model\n",
    "svm_clf.fit(X_train, y_train)\n",
    "\n",
    "# Make predictions on training and testing data\n",
    "y_pred_train = svm_clf.predict(X_train)\n",
    "y_pred_test = svm_clf.predict(X_test)\n",
    "\n",
    "# Calculate accuracy scores\n",
    "train_accuracy = accuracy_score(y_train, y_pred_train)\n",
    "test_accuracy = accuracy_score(y_test, y_pred_test)\n",
    "\n",
    "# View Accuracy\n",
    "print(\"Training Accuracy:\", train_accuracy)\n",
    "print(\"Testing Accuracy:\", test_accuracy)\n"
   ]
  },
  {
   "cell_type": "code",
   "execution_count": null,
   "id": "e64b8bbc",
   "metadata": {},
   "outputs": [],
   "source": []
  }
 ],
 "metadata": {
  "kernelspec": {
   "display_name": "Python 3 (ipykernel)",
   "language": "python",
   "name": "python3"
  },
  "language_info": {
   "codemirror_mode": {
    "name": "ipython",
    "version": 3
   },
   "file_extension": ".py",
   "mimetype": "text/x-python",
   "name": "python",
   "nbconvert_exporter": "python",
   "pygments_lexer": "ipython3",
   "version": "3.11.5"
  }
 },
 "nbformat": 4,
 "nbformat_minor": 5
}
